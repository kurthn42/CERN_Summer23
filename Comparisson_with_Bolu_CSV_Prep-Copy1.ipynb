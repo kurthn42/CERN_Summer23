{
 "cells": [
  {
   "cell_type": "code",
   "execution_count": 1,
   "id": "fd6cbbdf",
   "metadata": {},
   "outputs": [],
   "source": [
    "import pandas as pd"
   ]
  },
  {
   "cell_type": "code",
   "execution_count": 2,
   "id": "c8a645a1",
   "metadata": {},
   "outputs": [],
   "source": [
    "runs_abs = {285:1, 286:1, 287:1, 288:1, 289:1, 290:1, 291:1, 292:22, 293:22, 294: 460, 295:460, 296:1.5, 297:1.5, 298:2.2, 299:2.2, 300:3.3, 301:3.3, 302:4.6, 303:4.6, 304:10, 305:10, 306:33, 307:33, 308:46, 309:46, 310:100, 311:100}\n",
    "runs_comp = {285:\"off\", 286:\"on\", 287:\"on\", 288:\"on\", 289:\"off\", 290:\"off\", 291:\"on\", 292:\"off\", 293:\"on\", 294:\"on\", 295:\"off\", 296:\"off\", 297:\"on\", 298:\"off\", 299:\"on\", 300:\"off\", 301:\"on\", 302:\"off\", 303:\"on\", 304:\"off\", 305:\"on\", 306:\"off\", 307:\"on\", 308:\"off\", 309:\"on\", 310:\"off\", 311:\"on\"}\n",
    "\n",
    "# CSV File Format\n",
    "chambers_csv = []\n",
    "absorption_csv = []\n",
    "rate_csv = []\n",
    "rate_error_csv = []\n",
    "comp_status_csv = []"
   ]
  },
  {
   "cell_type": "code",
   "execution_count": 3,
   "id": "6620a1f7",
   "metadata": {},
   "outputs": [
    {
     "data": {
      "text/plain": [
       "True"
      ]
     },
     "execution_count": 3,
     "metadata": {},
     "output_type": "execute_result"
    }
   ],
   "source": [
    "runs_abs.keys() == runs_comp.keys()"
   ]
  },
  {
   "cell_type": "code",
   "execution_count": 4,
   "id": "06c5a971",
   "metadata": {},
   "outputs": [
    {
     "name": "stdout",
     "output_type": "stream",
     "text": [
      "DONE :)\n"
     ]
    }
   ],
   "source": [
    "# CSV File Format\n",
    "run_csv = []\n",
    "chambers_csv = []\n",
    "absorption_csv = []\n",
    "rate_csv = []\n",
    "rate_error_csv = []\n",
    "comp_status_csv = []\n",
    "\n",
    "for run in runs_abs.keys():\n",
    "    \n",
    "    file = pd.read_csv(\"Rate_per_Chamber_Run-\"+str(run)+\".csv\")\n",
    "    \n",
    "    i = 0\n",
    "    while i < len(file):\n",
    "        \n",
    "        run_csv.append(run)\n",
    "        chambers_csv.append(file[\"Chamber\"][i])\n",
    "        absorption_csv.append(runs_abs[run])\n",
    "        rate_csv.append(file[\"Rate\"][i])\n",
    "        rate_error_csv.append(file[\"Error\"][i])\n",
    "        comp_status_csv.append(runs_comp[run])        \n",
    "        \n",
    "        i+=1\n",
    "        \n",
    "df = {\"Run\":run_csv, \"Chamber\":chambers_csv, \"Absorption\":absorption_csv, \"Rate\":rate_csv, \"Rate Error\":rate_error_csv, \"Compensation Status\":comp_status_csv}\n",
    "pd.DataFrame(df).to_csv(\"Run_Rate_per_Chamber_285-311.csv\", index = False, header = True)\n",
    "\n",
    "print(\"DONE :)\")"
   ]
  },
  {
   "cell_type": "code",
   "execution_count": null,
   "id": "5dd8efa2",
   "metadata": {},
   "outputs": [],
   "source": []
  }
 ],
 "metadata": {
  "kernelspec": {
   "display_name": "Python 3",
   "language": "python",
   "name": "python3"
  },
  "language_info": {
   "codemirror_mode": {
    "name": "ipython",
    "version": 3
   },
   "file_extension": ".py",
   "mimetype": "text/x-python",
   "name": "python",
   "nbconvert_exporter": "python",
   "pygments_lexer": "ipython3",
   "version": "3.9.12"
  }
 },
 "nbformat": 4,
 "nbformat_minor": 5
}
