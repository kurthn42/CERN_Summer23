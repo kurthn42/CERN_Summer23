{
 "cells": [
  {
   "cell_type": "code",
   "execution_count": null,
   "id": "e03a4a4c",
   "metadata": {},
   "outputs": [],
   "source": [
    "# simple check to see if the chamber have a descending rate as you go from chambers 3 --> 2 --> 1 --> 0"
   ]
  },
  {
   "cell_type": "code",
   "execution_count": 5,
   "id": "1c129990",
   "metadata": {},
   "outputs": [],
   "source": [
    "import pandas as pd\n",
    "import numpy as np"
   ]
  },
  {
   "cell_type": "code",
   "execution_count": 11,
   "id": "582959a2",
   "metadata": {},
   "outputs": [],
   "source": [
    "runs = [285, 286, 287, 288, 289, 290, 291, 292, 293, 294, 295, 296, 297, 298, 299, 300, 301, 302, 303, 304, 305, 306, 307, 308, 309, 310, 311, 350, 351, 352, 353, 354, 355, 356, 357, 358, 359]"
   ]
  },
  {
   "cell_type": "code",
   "execution_count": 15,
   "id": "29e77285",
   "metadata": {},
   "outputs": [
    {
     "name": "stdout",
     "output_type": "stream",
     "text": [
      "292 Chamber 0\t\tDifference = 341304.1495668031\n",
      "292 Chamber 1\t\tDifference = 61139.99088007212\n",
      "293 Chamber 0\t\tDifference = 389847.4226460736\n",
      "293 Chamber 1\t\tDifference = 100598.62287591584\n",
      "294 Chamber 0\t\tDifference = 2611350.067196131\n",
      "294 Chamber 1\t\tDifference = 6834.6186578518245\n",
      "295 Chamber 0\t\tDifference = 2676505.165024737\n",
      "295 Chamber 1\t\tDifference = 11961.700131391757\n",
      "306 Chamber 0\t\tDifference = 797800.4228560012\n",
      "306 Chamber 1\t\tDifference = 64680.63482845295\n",
      "307 Chamber 0\t\tDifference = 816683.3409419823\n",
      "307 Chamber 1\t\tDifference = 63019.047526540235\n",
      "308 Chamber 0\t\tDifference = 1510272.168057735\n",
      "308 Chamber 1\t\tDifference = 9781.630912282504\n",
      "309 Chamber 0\t\tDifference = 1417071.592017576\n",
      "309 Chamber 1\t\tDifference = 81392.27466246113\n",
      "310 Chamber 0\t\tDifference = 2109971.425515907\n",
      "310 Chamber 1\t\tDifference = 45403.97341053281\n",
      "311 Chamber 0\t\tDifference = 2032870.9461398646\n",
      "311 Chamber 1\t\tDifference = 56175.26069071097\n",
      "350 Chamber 0\t\tDifference = 1380764.2508548833\n",
      "351 Chamber 0\t\tDifference = 1146129.555762792\n",
      "352 Chamber 0\t\tDifference = 799994.1989996899\n",
      "353 Chamber 0\t\tDifference = 445144.4155797977\n",
      "354 Chamber 0\t\tDifference = 592154.2706661187\n",
      "355 Chamber 0\t\tDifference = 528629.4053150062\n",
      "356 Chamber 0\t\tDifference = 336708.5671154475\n",
      "357 Chamber 0\t\tDifference = 220402.59066949598\n",
      "358 Chamber 0\t\tDifference = 139565.83176392363\n",
      "359 Chamber 0\t\tDifference = 137002.38392627053\n"
     ]
    }
   ],
   "source": [
    "for run in runs:\n",
    "    file = pd.read_csv(\"Rate_per_Chamber_Run-\"+str(run)+\".csv\")['Rate']\n",
    "    \n",
    "    i = 0\n",
    "    while i < 3:\n",
    "        if file[i] > file[i+1]:\n",
    "            print(str(run)+\" Chamber \"+str(i)+\"\\t\\tDifference = \"+str(file[i] - file[i+1]))\n",
    "        i+=1"
   ]
  },
  {
   "cell_type": "code",
   "execution_count": null,
   "id": "40864f6a",
   "metadata": {},
   "outputs": [],
   "source": []
  }
 ],
 "metadata": {
  "kernelspec": {
   "display_name": "Python 3",
   "language": "python",
   "name": "python3"
  },
  "language_info": {
   "codemirror_mode": {
    "name": "ipython",
    "version": 3
   },
   "file_extension": ".py",
   "mimetype": "text/x-python",
   "name": "python",
   "nbconvert_exporter": "python",
   "pygments_lexer": "ipython3",
   "version": "3.9.12"
  }
 },
 "nbformat": 4,
 "nbformat_minor": 5
}
